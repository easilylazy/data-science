{
 "metadata": {
  "language_info": {
   "codemirror_mode": {
    "name": "ipython",
    "version": 3
   },
   "file_extension": ".py",
   "mimetype": "text/x-python",
   "name": "python",
   "nbconvert_exporter": "python",
   "pygments_lexer": "ipython3",
   "version": "3.7.4"
  },
  "orig_nbformat": 2,
  "kernelspec": {
   "name": "python374jvsc74a57bd03f857618d8b6a3d270a8a45aea13fd0dc2a28a907e8d4ef70fe87ce2a92698f8",
   "display_name": "Python 3.7.4 64-bit"
  }
 },
 "nbformat": 4,
 "nbformat_minor": 2,
 "cells": [
  {
   "cell_type": "code",
   "execution_count": 1,
   "metadata": {},
   "outputs": [],
   "source": [
    "import numpy as np "
   ]
  },
  {
   "cell_type": "code",
   "execution_count": 2,
   "metadata": {},
   "outputs": [],
   "source": [
    "A=np.random.rand(3,5)"
   ]
  },
  {
   "cell_type": "code",
   "execution_count": 3,
   "metadata": {},
   "outputs": [
    {
     "output_type": "execute_result",
     "data": {
      "text/plain": [
       "array([[0.58664933, 0.86268652, 0.00792486, 0.30862384, 0.57644987],\n",
       "       [0.25641696, 0.12498571, 0.3261824 , 0.76215331, 0.94327737],\n",
       "       [0.90976249, 0.80115775, 0.93973165, 0.58713391, 0.40636883]])"
      ]
     },
     "metadata": {},
     "execution_count": 3
    }
   ],
   "source": [
    "A"
   ]
  },
  {
   "cell_type": "code",
   "execution_count": 4,
   "metadata": {},
   "outputs": [
    {
     "output_type": "execute_result",
     "data": {
      "text/plain": [
       "(array([[-0.49303626,  0.15010851, -0.85696131],\n",
       "        [-0.47959239, -0.86872067,  0.12375597],\n",
       "        [-0.72588318,  0.4720083 ,  0.50030169]]),\n",
       " array([2.22562278, 0.82440106, 0.63549382]),\n",
       " array([[-0.48193086, -0.47933768, -0.3785355 , -0.42409536, -0.46349976],\n",
       "        [ 0.35749807,  0.4840751 ,  0.19576556, -0.41076995, -0.65636143],\n",
       "        [-0.02493642, -0.5082672 ,  0.79265138,  0.19447304, -0.27372733],\n",
       "        [-0.4758927 ,  0.37204344, -0.08774702,  0.66645533, -0.42807425],\n",
       "        [-0.64252789,  0.37303461,  0.42707256, -0.41161717,  0.31013453]]))"
      ]
     },
     "metadata": {},
     "execution_count": 4
    }
   ],
   "source": [
    "np.linalg.svd(A)"
   ]
  },
  {
   "cell_type": "code",
   "execution_count": 5,
   "metadata": {},
   "outputs": [],
   "source": [
    "import scipy\n",
    "import scipy.linalg"
   ]
  },
  {
   "cell_type": "code",
   "execution_count": 6,
   "metadata": {},
   "outputs": [],
   "source": [
    "from datetime import datetime"
   ]
  },
  {
   "cell_type": "code",
   "execution_count": 136,
   "metadata": {},
   "outputs": [],
   "source": [
    "M=np.random.rand(3,3)"
   ]
  },
  {
   "cell_type": "code",
   "execution_count": 137,
   "metadata": {},
   "outputs": [
    {
     "output_type": "execute_result",
     "data": {
      "text/plain": [
       "array([[0.10252966, 0.66596766, 0.95956141],\n",
       "       [0.31412641, 0.49532295, 0.30373635],\n",
       "       [0.18210204, 0.86132001, 0.85865439]])"
      ]
     },
     "metadata": {},
     "execution_count": 137
    }
   ],
   "source": [
    "M"
   ]
  },
  {
   "cell_type": "code",
   "execution_count": 138,
   "metadata": {},
   "outputs": [],
   "source": [
    "P,L,U=scipy.linalg.lu(M)"
   ]
  },
  {
   "source": [
    "## backward & forward substitution"
   ],
   "cell_type": "markdown",
   "metadata": {}
  },
  {
   "cell_type": "code",
   "execution_count": 139,
   "metadata": {},
   "outputs": [],
   "source": [
    "def timer(func):\n",
    "    def layer(*args,**kwargs):\n",
    "        #print(args)\n",
    "        def count(*args,**kwargs):\n",
    "            start=datetime.now()\n",
    "            res=func(*args,**kwargs)\n",
    "            print(datetime.now()-start)\n",
    "            return res\n",
    "        return count(*args,**kwargs)\n",
    "    return layer"
   ]
  },
  {
   "cell_type": "code",
   "execution_count": 204,
   "metadata": {},
   "outputs": [],
   "source": [
    "@timer\n",
    "def forward(L,b):\n",
    "    d=np.shape(L)[0]\n",
    "    Y=np.zeros(d)\n",
    "    for i in range(d):\n",
    "        l=L[i]\n",
    "        Y[i]=b[i]\n",
    "        for c in range(i):\n",
    "            Y[i]-=Y[c]*l[c]\n",
    "        Y[i]=Y[i]/l[i]\n",
    "    return Y"
   ]
  },
  {
   "cell_type": "code",
   "execution_count": 205,
   "metadata": {},
   "outputs": [],
   "source": [
    "@timer\n",
    "# optimize\n",
    "def forward_o(L,b):\n",
    "    d=np.shape(L)[0]\n",
    "    Y=np.copy(b)\n",
    "    for i in range(d):\n",
    "        l=L[i]\n",
    "        Y[i]=Y[i]/l[i]\n",
    "        Y[i+1:]-=Y[i]*L[i+1:,i]\n",
    "    return Y"
   ]
  },
  {
   "source": [
    "d=400\n",
    "M=np.random.rand(d,d)\n",
    "b=np.random.rand(d)\n",
    "P,L,U=scipy.linalg.lu(M)"
   ],
   "cell_type": "code",
   "metadata": {},
   "execution_count": 209,
   "outputs": []
  },
  {
   "cell_type": "code",
   "execution_count": 210,
   "metadata": {},
   "outputs": [
    {
     "output_type": "stream",
     "name": "stdout",
     "text": [
      "0:00:00.006988\n"
     ]
    }
   ],
   "source": [
    "_=forward_o(L,b)"
   ]
  },
  {
   "cell_type": "code",
   "execution_count": 211,
   "metadata": {},
   "outputs": [
    {
     "output_type": "stream",
     "name": "stdout",
     "text": [
      "0:00:00.098731\n"
     ]
    }
   ],
   "source": [
    "_=forward(L,b)"
   ]
  },
  {
   "cell_type": "code",
   "execution_count": 115,
   "metadata": {},
   "outputs": [],
   "source": [
    "#@timer\n",
    "def backward(U,b):\n",
    "    d=np.shape(U)[0]\n",
    "    Y=np.zeros(d)\n",
    "    for i in range(d-1,-1,-1):\n",
    "        #i=d-m-1\n",
    "        l=U[i]\n",
    "        Y[i]=b[i]\n",
    "        for c in range(d-1,i,-1):\n",
    "            Y[i]-=Y[c]*l[c]\n",
    "        Y[i]=Y[i]/l[i]\n",
    "    return Y"
   ]
  },
  {
   "cell_type": "code",
   "execution_count": 40,
   "metadata": {},
   "outputs": [],
   "source": [
    "b=np.random.rand(np.shape(U)[0])"
   ]
  },
  {
   "cell_type": "code",
   "execution_count": 41,
   "metadata": {},
   "outputs": [
    {
     "output_type": "stream",
     "name": "stdout",
     "text": [
      "0:00:00.000992\n[ 0.71387643  3.88181708 -1.69705465 -4.74923419 -3.15346138  2.40569473\n  4.34176056 -2.30292469  3.93530006  1.07921956]\n"
     ]
    }
   ],
   "source": [
    "Y=backward(U,b)\n",
    "print(Y)"
   ]
  },
  {
   "cell_type": "code",
   "execution_count": 42,
   "metadata": {},
   "outputs": [
    {
     "output_type": "execute_result",
     "data": {
      "text/plain": [
       "array([ 0.71387643,  3.88181708, -1.69705465, -4.74923419, -3.15346138,\n",
       "        2.40569473,  4.34176056, -2.30292469,  3.93530006,  1.07921956])"
      ]
     },
     "metadata": {},
     "execution_count": 42
    }
   ],
   "source": [
    "np.dot(np.linalg.inv(U),b)"
   ]
  },
  {
   "cell_type": "code",
   "execution_count": 130,
   "metadata": {},
   "outputs": [
    {
     "output_type": "execute_result",
     "data": {
      "text/plain": [
       "array([ 0.64573111,  0.74871002,  0.5136383 , -0.91968758])"
      ]
     },
     "metadata": {},
     "execution_count": 130
    }
   ],
   "source": [
    "forward(L,b)"
   ]
  },
  {
   "cell_type": "code",
   "execution_count": 132,
   "metadata": {},
   "outputs": [
    {
     "output_type": "error",
     "ename": "ValueError",
     "evalue": "operands could not be broadcast together with shapes (289,) (3,) (289,) ",
     "traceback": [
      "\u001b[1;31m---------------------------------------------------------------------------\u001b[0m",
      "\u001b[1;31mValueError\u001b[0m                                Traceback (most recent call last)",
      "\u001b[1;32m<ipython-input-132-18c71c579304>\u001b[0m in \u001b[0;36m<module>\u001b[1;34m\u001b[0m\n\u001b[1;32m----> 1\u001b[1;33m \u001b[0mforward_o\u001b[0m\u001b[1;33m(\u001b[0m\u001b[0mL\u001b[0m\u001b[1;33m,\u001b[0m\u001b[0mb\u001b[0m\u001b[1;33m)\u001b[0m\u001b[1;33m\u001b[0m\u001b[1;33m\u001b[0m\u001b[0m\n\u001b[0m",
      "\u001b[1;32m<ipython-input-131-f48175a317ee>\u001b[0m in \u001b[0;36mforward_o\u001b[1;34m(L, b)\u001b[0m\n\u001b[0;32m      9\u001b[0m \u001b[1;33m\u001b[0m\u001b[0m\n\u001b[0;32m     10\u001b[0m         \u001b[0mY\u001b[0m\u001b[1;33m[\u001b[0m\u001b[0mi\u001b[0m\u001b[1;33m]\u001b[0m\u001b[1;33m=\u001b[0m\u001b[0mY\u001b[0m\u001b[1;33m[\u001b[0m\u001b[0mi\u001b[0m\u001b[1;33m]\u001b[0m\u001b[1;33m/\u001b[0m\u001b[0ml\u001b[0m\u001b[1;33m[\u001b[0m\u001b[0mi\u001b[0m\u001b[1;33m]\u001b[0m\u001b[1;33m\u001b[0m\u001b[1;33m\u001b[0m\u001b[0m\n\u001b[1;32m---> 11\u001b[1;33m         \u001b[0mY\u001b[0m\u001b[1;33m[\u001b[0m\u001b[0mi\u001b[0m\u001b[1;33m+\u001b[0m\u001b[1;36m1\u001b[0m\u001b[1;33m:\u001b[0m\u001b[1;33m]\u001b[0m\u001b[1;33m-=\u001b[0m\u001b[0mY\u001b[0m\u001b[1;33m[\u001b[0m\u001b[0mi\u001b[0m\u001b[1;33m]\u001b[0m\u001b[1;33m*\u001b[0m\u001b[0mL\u001b[0m\u001b[1;33m[\u001b[0m\u001b[0mi\u001b[0m\u001b[1;33m,\u001b[0m\u001b[0mi\u001b[0m\u001b[1;33m+\u001b[0m\u001b[1;36m1\u001b[0m\u001b[1;33m:\u001b[0m\u001b[1;33m]\u001b[0m\u001b[1;33m\u001b[0m\u001b[1;33m\u001b[0m\u001b[0m\n\u001b[0m\u001b[0;32m     12\u001b[0m \u001b[1;33m\u001b[0m\u001b[0m\n\u001b[0;32m     13\u001b[0m     \u001b[1;32mreturn\u001b[0m \u001b[0mY\u001b[0m\u001b[1;33m\u001b[0m\u001b[1;33m\u001b[0m\u001b[0m\n",
      "\u001b[1;31mValueError\u001b[0m: operands could not be broadcast together with shapes (289,) (3,) (289,) "
     ]
    }
   ],
   "source": [
    "forward_o(L,b)"
   ]
  },
  {
   "cell_type": "code",
   "execution_count": 44,
   "metadata": {},
   "outputs": [
    {
     "output_type": "execute_result",
     "data": {
      "text/plain": [
       "array([ 0.79946411,  0.00691092, -0.04882792,  0.06954646,  0.47180628,\n",
       "        0.34553958, -0.43083605, -0.40760726,  0.41290504,  0.30060531])"
      ]
     },
     "metadata": {},
     "execution_count": 44
    }
   ],
   "source": [
    "np.dot(np.linalg.inv(L),b)"
   ]
  },
  {
   "source": [
    "## time consuming"
   ],
   "cell_type": "markdown",
   "metadata": {}
  },
  {
   "cell_type": "code",
   "execution_count": 45,
   "metadata": {},
   "outputs": [],
   "source": [
    "@timer\n",
    "def inv(L,b):\n",
    "    return np.dot(np.linalg.inv(L),b)"
   ]
  },
  {
   "cell_type": "code",
   "execution_count": 57,
   "metadata": {},
   "outputs": [],
   "source": [
    "d=4\n",
    "M=np.random.rand(d,d)\n",
    "b=np.random.rand(d)\n",
    "P,L,U=scipy.linalg.lu(M)"
   ]
  },
  {
   "cell_type": "code",
   "execution_count": 110,
   "metadata": {},
   "outputs": [
    {
     "output_type": "stream",
     "name": "stdout",
     "text": [
      "0:00:00\nTrue\n0:00:00\n[ 0.47894067 -0.06820787  0.18863266  0.474001  ]\n"
     ]
    }
   ],
   "source": [
    "pb=np.dot(np.linalg.inv(P),b)\n",
    "Y=forward(L,pb)\n",
    "print(np.allclose(np.dot(L,Y),pb))\n",
    "X=backward(U,Y)\n",
    "print(np.dot(U,X))\n"
   ]
  },
  {
   "source": [
    "## 置换矩阵\n",
    "$P$为$LU$分解时的置换矩阵，为了防止因为主元为零（在数值计算中主元值很小）而交换矩阵两行的变换。如果我们想写出更普适的 $LU$ 分解式的话，必须把行交换情况考虑进去，即：$PA$ 先用行交换使得主元位置不为 0，行顺序正确。其后再用 $LU$ 分解。"
   ],
   "cell_type": "markdown",
   "metadata": {}
  },
  {
   "cell_type": "code",
   "execution_count": 92,
   "metadata": {},
   "outputs": [
    {
     "output_type": "stream",
     "name": "stdout",
     "text": [
      "[[0.76485184 0.98605722 0.38653124 0.60066463]\n [0.23076152 0.77537277 0.16908712 0.2003375 ]\n [0.82089899 0.69583508 0.0227756  0.23570014]\n [0.80933263 0.29578319 0.38680694 0.9643746 ]]\n[[0.76485184 0.98605722 0.38653124 0.60066463]\n [0.23076152 0.77537277 0.16908712 0.2003375 ]\n [0.82089899 0.69583508 0.0227756  0.23570014]\n [0.80933263 0.29578319 0.38680694 0.9643746 ]]\nTrue\n"
     ]
    }
   ],
   "source": [
    "print(np.dot(P,np.dot(L,U)))\n",
    "print(M)\n",
    "print(np.allclose(np.dot(P,np.dot(L,U)),M))"
   ]
  },
  {
   "cell_type": "code",
   "execution_count": 105,
   "metadata": {},
   "outputs": [
    {
     "output_type": "stream",
     "name": "stdout",
     "text": [
      "[-2.81469670e-01  1.11022302e-16  5.09265546e-01 -2.27795876e-01]\n"
     ]
    }
   ],
   "source": [
    "print((np.dot(P,np.dot(M,X))-b))"
   ]
  },
  {
   "cell_type": "code",
   "execution_count": 104,
   "metadata": {},
   "outputs": [
    {
     "output_type": "stream",
     "name": "stdout",
     "text": [
      "False\n"
     ]
    }
   ],
   "source": [
    "print(np.allclose(np.dot(P,np.dot(M,X)),b,rtol=0.1))"
   ]
  },
  {
   "cell_type": "code",
   "execution_count": 106,
   "metadata": {},
   "outputs": [
    {
     "output_type": "stream",
     "name": "stdout",
     "text": [
      "0:00:00\nTrue\n[-2.22044605e-16 -1.11022302e-16 -2.22044605e-16 -1.11022302e-15]\n"
     ]
    }
   ],
   "source": [
    "res=inv(M,b)\n",
    "print(np.allclose(np.dot(M,res),b))\n",
    "print((np.dot(M,res)-b))\n"
   ]
  },
  {
   "source": [
    "## 精度低"
   ],
   "cell_type": "markdown",
   "metadata": {}
  },
  {
   "cell_type": "code",
   "execution_count": 120,
   "metadata": {},
   "outputs": [],
   "source": [
    "@timer\n",
    "def lu_s(M,b):\n",
    "    P,L,U=scipy.linalg.lu(M)\n",
    "    #b=np.dot(np.linalg.inv(P),b)\n",
    "    Y=forward(L,b)#np.dot(np.linalg.inv(L),b)\n",
    "    X=backward(U,Y)#np.dot(np.linalg.inv(U),Y)"
   ]
  },
  {
   "cell_type": "code",
   "execution_count": 124,
   "metadata": {},
   "outputs": [
    {
     "output_type": "stream",
     "name": "stdout",
     "text": [
      "~~~~~~~~~~~~d=10~~~~~~~~~~~\n",
      "0:00:00.001001\n",
      "0:00:00.000996\n",
      "0:00:00.000996\n",
      "0:00:00\n",
      "0:00:00.000998\n",
      "0:00:00.001001\n",
      "~~~~~~~~~~~~d=50~~~~~~~~~~~\n",
      "0:00:00.010965\n",
      "0:00:00.008974\n",
      "0:00:00.007979\n",
      "0:00:00.002992\n",
      "0:00:00.007653\n",
      "0:00:00.001995\n",
      "~~~~~~~~~~~~d=90~~~~~~~~~~~\n",
      "0:00:00.024973\n",
      "0:00:00.023937\n",
      "0:00:00.020945\n",
      "0:00:00.109218\n",
      "0:00:00.038412\n",
      "0:00:00.030919\n",
      "~~~~~~~~~~~~d=130~~~~~~~~~~~\n",
      "0:00:00.039891\n",
      "0:00:00.079787\n",
      "0:00:00.039895\n",
      "0:00:00.075798\n",
      "0:00:00.042885\n",
      "0:00:00.104719\n",
      "~~~~~~~~~~~~d=170~~~~~~~~~~~\n",
      "0:00:00.102724\n",
      "0:00:00.089761\n",
      "0:00:00.086765\n",
      "0:00:00.070809\n",
      "0:00:00.080783\n",
      "0:00:00.091755\n",
      "~~~~~~~~~~~~d=210~~~~~~~~~~~\n",
      "0:00:00.137399\n",
      "0:00:00.174533\n",
      "0:00:00.182827\n",
      "0:00:00.155520\n",
      "0:00:00.161568\n",
      "0:00:00.190008\n",
      "~~~~~~~~~~~~d=250~~~~~~~~~~~\n",
      "0:00:00.241354\n",
      "0:00:00.183510\n",
      "0:00:00.234373\n",
      "0:00:00.159575\n",
      "0:00:00.189472\n",
      "0:00:00.234885\n",
      "~~~~~~~~~~~~d=290~~~~~~~~~~~\n",
      "0:00:00.226408\n",
      "0:00:00.307213\n",
      "0:00:00.239362\n",
      "0:00:00.244347\n",
      "0:00:00.209441\n",
      "0:00:00.388505\n",
      "~~~~~~~~~~~~d=330~~~~~~~~~~~\n",
      "0:00:00.436097\n",
      "0:00:00.307180\n",
      "0:00:00.538092\n",
      "0:00:00.301228\n",
      "0:00:00.832528\n",
      "0:00:00.343083\n",
      "~~~~~~~~~~~~d=370~~~~~~~~~~~\n",
      "0:00:00.496953\n",
      "0:00:00.403923\n",
      "0:00:00.552587\n",
      "0:00:00.334106\n",
      "0:00:00.467742\n",
      "0:00:00.343082\n"
     ]
    }
   ],
   "source": [
    "for d in range(10,400,40):\n",
    "    print('~~~~~~~~~~~~d='+str(d)+'~~~~~~~~~~~')\n",
    "    #d=400\n",
    "    M=np.random.rand(d,d)\n",
    "    b=np.random.rand(d)\n",
    "    for i in range(3):\n",
    "        lu_s(M,b)\n",
    "        _=inv(M,b)\n",
    "#lu_s(M,b)"
   ]
  },
  {
   "cell_type": "code",
   "execution_count": 125,
   "metadata": {},
   "outputs": [
    {
     "output_type": "stream",
     "name": "stdout",
     "text": [
      "0:00:00.165558\n",
      "0:00:00.285743\n",
      "0:00:00.246865\n",
      "0:00:00.211945\n",
      "0:00:00.236505\n",
      "0:00:00.381976\n",
      "0:00:00.244873\n",
      "0:00:00.265292\n",
      "0:00:00.261301\n",
      "0:00:00.251328\n",
      "0:00:00.248599\n",
      "0:00:00.205449\n",
      "0:00:00.217003\n",
      "0:00:00.298717\n",
      "0:00:00.251682\n",
      "0:00:00.201459\n",
      "0:00:00.376002\n",
      "0:00:00.259308\n"
     ]
    }
   ],
   "source": [
    "    d=290\n",
    "    M=np.random.rand(d,d)\n",
    "    b=np.random.rand(d)\n",
    "    for i in range(9):\n",
    "        lu_s(M,b)\n",
    "        _=inv(M,b)"
   ]
  },
  {
   "cell_type": "code",
   "execution_count": null,
   "metadata": {},
   "outputs": [],
   "source": []
  }
 ]
}