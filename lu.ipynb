{
 "metadata": {
  "language_info": {
   "codemirror_mode": {
    "name": "ipython",
    "version": 3
   },
   "file_extension": ".py",
   "mimetype": "text/x-python",
   "name": "python",
   "nbconvert_exporter": "python",
   "pygments_lexer": "ipython3",
   "version": "3.7.4"
  },
  "orig_nbformat": 2,
  "kernelspec": {
   "name": "python374jvsc74a57bd03f857618d8b6a3d270a8a45aea13fd0dc2a28a907e8d4ef70fe87ce2a92698f8",
   "display_name": "Python 3.7.4 64-bit"
  }
 },
 "nbformat": 4,
 "nbformat_minor": 2,
 "cells": [
  {
   "cell_type": "code",
   "execution_count": 2,
   "metadata": {},
   "outputs": [],
   "source": [
    "import numpy as np "
   ]
  },
  {
   "cell_type": "code",
   "execution_count": 3,
   "metadata": {},
   "outputs": [],
   "source": [
    "A=np.random.rand(3,5)"
   ]
  },
  {
   "cell_type": "code",
   "execution_count": 4,
   "metadata": {},
   "outputs": [
    {
     "output_type": "execute_result",
     "data": {
      "text/plain": [
       "array([[0.65374858, 0.83374671, 0.42983523, 0.70842116, 0.74123305],\n",
       "       [0.27890041, 0.66909147, 0.59856629, 0.97145692, 0.69781088],\n",
       "       [0.27750559, 0.34875061, 0.91043214, 0.56799442, 0.11846994]])"
      ]
     },
     "metadata": {},
     "execution_count": 4
    }
   ],
   "source": [
    "A"
   ]
  },
  {
   "cell_type": "code",
   "execution_count": 5,
   "metadata": {},
   "outputs": [
    {
     "output_type": "execute_result",
     "data": {
      "text/plain": [
       "(array([[-0.63337978,  0.51753808,  0.57531243],\n",
       "        [-0.63921839,  0.06911802, -0.76591289],\n",
       "        [-0.43615354, -0.85286402,  0.2870419 ]]),\n",
       " array([2.34818439, 0.64957143, 0.31819483]),\n",
       " array([[-0.30380257, -0.47180396, -0.44798515, -0.56103156, -0.41189553],\n",
       "        [ 0.18618784,  0.27757548, -0.78920805, -0.07796201,  0.50927253],\n",
       "        [ 0.76101802,  0.21152168,  0.15767726, -0.54510525, -0.23261194],\n",
       "        [ 0.54187856, -0.67039322, -0.19139834,  0.46576933, -0.05801859],\n",
       "        [-0.01604024, -0.45407531,  0.33906417, -0.40630619,  0.71659548]]))"
      ]
     },
     "metadata": {},
     "execution_count": 5
    }
   ],
   "source": [
    "np.linalg.svd(A)"
   ]
  },
  {
   "cell_type": "code",
   "execution_count": 10,
   "metadata": {},
   "outputs": [],
   "source": [
    "import scipy\n",
    "import scipy.linalg"
   ]
  },
  {
   "cell_type": "code",
   "execution_count": 22,
   "metadata": {},
   "outputs": [],
   "source": [
    "from datetime import datetime"
   ]
  },
  {
   "cell_type": "code",
   "execution_count": 6,
   "metadata": {},
   "outputs": [],
   "source": [
    "M=np.random.rand(3,3)\n"
   ]
  },
  {
   "cell_type": "code",
   "execution_count": 7,
   "metadata": {},
   "outputs": [
    {
     "output_type": "execute_result",
     "data": {
      "text/plain": [
       "array([[0.40365031, 0.4762823 , 0.02210425],\n",
       "       [0.34702748, 0.07474289, 0.75307898],\n",
       "       [0.48926788, 0.76680419, 0.2413447 ]])"
      ]
     },
     "metadata": {},
     "execution_count": 7
    }
   ],
   "source": [
    "M"
   ]
  },
  {
   "cell_type": "code",
   "execution_count": 69,
   "metadata": {},
   "outputs": [],
   "source": [
    "P,L,U=scipy.linalg.lu(M)"
   ]
  },
  {
   "cell_type": "code",
   "execution_count": 158,
   "metadata": {},
   "outputs": [
    {
     "output_type": "execute_result",
     "data": {
      "text/plain": [
       "array([[ 0.48926788,  0.76680419,  0.2413447 ],\n",
       "       [ 0.        , -0.46913528,  0.58189823],\n",
       "       [ 0.        ,  0.        , -0.37092305]])"
      ]
     },
     "metadata": {},
     "execution_count": 158
    }
   ],
   "source": [
    "U"
   ]
  },
  {
   "cell_type": "code",
   "execution_count": 14,
   "metadata": {},
   "outputs": [
    {
     "output_type": "execute_result",
     "data": {
      "text/plain": [
       "array([[1.        , 0.        , 0.        ],\n",
       "       [0.70927909, 1.        , 0.        ],\n",
       "       [0.82500879, 0.33324693, 1.        ]])"
      ]
     },
     "metadata": {},
     "execution_count": 14
    }
   ],
   "source": [
    "L"
   ]
  },
  {
   "source": [
    "## backward & forward substitution"
   ],
   "cell_type": "markdown",
   "metadata": {}
  },
  {
   "cell_type": "code",
   "execution_count": 147,
   "metadata": {},
   "outputs": [],
   "source": [
    "def timer(func):\n",
    "    def layer(*args,**kwargs):\n",
    "        #print(args)\n",
    "        def count(*args,**kwargs):\n",
    "            start=datetime.now()\n",
    "            res=func(*args,**kwargs)\n",
    "            print(datetime.now()-start)\n",
    "            return res\n",
    "        return count(*args,**kwargs)\n",
    "    return layer"
   ]
  },
  {
   "cell_type": "code",
   "execution_count": 152,
   "metadata": {},
   "outputs": [],
   "source": [
    "@timer\n",
    "def forward(L,b):\n",
    "    d=np.shape(L)[0]\n",
    "    Y=np.zeros(d)\n",
    "    for i in range(d):\n",
    "        l=L[i]\n",
    "        Y[i]=b[i]\n",
    "        for c in range(i):\n",
    "            Y[i]-=Y[c]*l[c]\n",
    "    return Y"
   ]
  },
  {
   "cell_type": "code",
   "execution_count": 171,
   "metadata": {},
   "outputs": [],
   "source": [
    "@timer\n",
    "def backward(U,b):\n",
    "    d=np.shape(U)[0]\n",
    "    Y=np.zeros(d)\n",
    "    for i in range(d-1,-1,-1):\n",
    "        #i=d-m-1\n",
    "        l=U[i]\n",
    "        Y[i]=b[i]\n",
    "        for c in range(d-1,i,-1):\n",
    "            Y[i]-=Y[c]*l[c]\n",
    "        Y[i]=Y[i]/l[i]\n",
    "    return Y"
   ]
  },
  {
   "cell_type": "code",
   "execution_count": 172,
   "metadata": {},
   "outputs": [],
   "source": [
    "b=np.random.rand(np.shape(U)[0])"
   ]
  },
  {
   "cell_type": "code",
   "execution_count": 173,
   "metadata": {},
   "outputs": [
    {
     "output_type": "stream",
     "name": "stdout",
     "text": [
      "0:00:00\n[ 8.45918168 -4.15556316 -2.42622131]\n"
     ]
    }
   ],
   "source": [
    "Y=backward(U,b)\n",
    "print(Y)"
   ]
  },
  {
   "cell_type": "code",
   "execution_count": 174,
   "metadata": {},
   "outputs": [
    {
     "output_type": "execute_result",
     "data": {
      "text/plain": [
       "array([ 8.45918168, -4.15556316, -2.42622131])"
      ]
     },
     "metadata": {},
     "execution_count": 174
    }
   ],
   "source": [
    "np.dot(np.linalg.inv(U),b)"
   ]
  },
  {
   "cell_type": "code",
   "execution_count": 175,
   "metadata": {},
   "outputs": [
    {
     "output_type": "stream",
     "name": "stdout",
     "text": [
      "0:00:00\n"
     ]
    },
    {
     "output_type": "execute_result",
     "data": {
      "text/plain": [
       "array([0.36674702, 0.27758142, 0.50486873])"
      ]
     },
     "metadata": {},
     "execution_count": 175
    }
   ],
   "source": [
    "forward(L,b)"
   ]
  },
  {
   "cell_type": "code",
   "execution_count": 176,
   "metadata": {},
   "outputs": [
    {
     "output_type": "execute_result",
     "data": {
      "text/plain": [
       "array([0.36674702, 0.27758142, 0.50486873])"
      ]
     },
     "metadata": {},
     "execution_count": 176
    }
   ],
   "source": [
    "np.dot(np.linalg.inv(L),b)"
   ]
  },
  {
   "source": [
    "## time consuming"
   ],
   "cell_type": "markdown",
   "metadata": {}
  },
  {
   "cell_type": "code",
   "execution_count": 64,
   "metadata": {},
   "outputs": [
    {
     "output_type": "stream",
     "name": "stdout",
     "text": [
      "0:00:00.013003\n"
     ]
    }
   ],
   "source": [
    "d=100\n",
    "L=np.random.rand(d,d)\n",
    "b=np.random.rand(d)\n",
    "forward(L,b)"
   ]
  },
  {
   "cell_type": "code",
   "execution_count": null,
   "metadata": {},
   "outputs": [],
   "source": [
    "@timer()"
   ]
  },
  {
   "cell_type": "code",
   "execution_count": 66,
   "metadata": {},
   "outputs": [],
   "source": [
    "@timer\n",
    "def inv(L,b):\n",
    "    res=np.dot(np.linalg.inv(L),b)"
   ]
  },
  {
   "cell_type": "code",
   "execution_count": 67,
   "metadata": {},
   "outputs": [
    {
     "output_type": "stream",
     "name": "stdout",
     "text": [
      "0:00:00.041887\n"
     ]
    }
   ],
   "source": [
    "inv(L,b)"
   ]
  },
  {
   "cell_type": "code",
   "execution_count": 47,
   "metadata": {},
   "outputs": [],
   "source": [
    "b=np.array([1,2,3])"
   ]
  },
  {
   "cell_type": "code",
   "execution_count": 37,
   "metadata": {},
   "outputs": [],
   "source": []
  },
  {
   "cell_type": "code",
   "execution_count": 21,
   "metadata": {},
   "outputs": [
    {
     "output_type": "execute_result",
     "data": {
      "text/plain": [
       "array([1.        , 1.29072091, 1.74486243])"
      ]
     },
     "metadata": {},
     "execution_count": 21
    }
   ],
   "source": [
    "np.dot(np.linalg.inv(L),b)"
   ]
  },
  {
   "cell_type": "code",
   "execution_count": null,
   "metadata": {},
   "outputs": [],
   "source": []
  }
 ]
}