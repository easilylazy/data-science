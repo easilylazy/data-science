{
 "metadata": {
  "language_info": {
   "codemirror_mode": {
    "name": "ipython",
    "version": 3
   },
   "file_extension": ".py",
   "mimetype": "text/x-python",
   "name": "python",
   "nbconvert_exporter": "python",
   "pygments_lexer": "ipython3",
   "version": "3.7.4"
  },
  "orig_nbformat": 2,
  "kernelspec": {
   "name": "python374jvsc74a57bd03f857618d8b6a3d270a8a45aea13fd0dc2a28a907e8d4ef70fe87ce2a92698f8",
   "display_name": "Python 3.7.4 64-bit"
  },
  "metadata": {
   "interpreter": {
    "hash": "63fd5069d213b44bf678585dea6b12cceca9941eaf7f819626cde1f2670de90d"
   }
  }
 },
 "nbformat": 4,
 "nbformat_minor": 2,
 "cells": [
  {
   "source": [
    "author:leezeeyee   \n",
    "date:2021/5/12"
   ],
   "cell_type": "markdown",
   "metadata": {}
  },
  {
   "cell_type": "code",
   "execution_count": 67,
   "metadata": {},
   "outputs": [],
   "source": [
    "import numpy as np\n",
    "from utils import timer"
   ]
  },
  {
   "source": [
    "## Gram-Schmidt process"
   ],
   "cell_type": "markdown",
   "metadata": {}
  },
  {
   "cell_type": "code",
   "execution_count": 9,
   "metadata": {},
   "outputs": [],
   "source": [
    "def proj(U,V):\n",
    "    '''\n",
    "    computer the projection of vector $V$ on the direction of $U$ \n",
    "    U and V should be same dimension\n",
    "    '''\n",
    "    if U.shape != V.shape:\n",
    "        raise Exception('not in same dimension')\n",
    "    return np.dot(U,V)*U/np.dot(U,U)"
   ]
  },
  {
   "cell_type": "code",
   "execution_count": 11,
   "metadata": {},
   "outputs": [
    {
     "output_type": "execute_result",
     "data": {
      "text/plain": [
       "array([2.04, 2.72])"
      ]
     },
     "metadata": {},
     "execution_count": 11
    }
   ],
   "source": [
    "proj(np.array([3,4]),np.array([3,2]))"
   ]
  },
  {
   "cell_type": "code",
   "execution_count": 128,
   "metadata": {},
   "outputs": [],
   "source": [
    "def gram_schmidt(A):\n",
    "    U=np.copy(A)\n",
    "    for col in range(A.shape[1]):\n",
    "        #print(A[:,col]) \n",
    "        for i in range(col):\n",
    "            # now the u is already guiyi\n",
    "            U[:,col]-=np.dot(U[:,i],A[:,col])*U[:,i]#proj(U[:,i],A[:,col]) \n",
    "        U[:,col]/=np.sqrt(np.dot(U[:,col],U[:,col]))\n",
    "    return U\n",
    "            \n"
   ]
  },
  {
   "cell_type": "code",
   "execution_count": 51,
   "metadata": {},
   "outputs": [],
   "source": [
    "res=gram_schmidt(np.random.rand(5,3))"
   ]
  },
  {
   "cell_type": "code",
   "execution_count": 52,
   "metadata": {},
   "outputs": [
    {
     "output_type": "execute_result",
     "data": {
      "text/plain": [
       "array([[ 0.11989545,  0.06535308,  0.74256348],\n",
       "       [ 0.62500627,  0.69793329,  0.06400778],\n",
       "       [ 0.46046477, -0.05589415, -0.60180545],\n",
       "       [ 0.49599204, -0.67357036,  0.09707424],\n",
       "       [ 0.37007613, -0.22758937,  0.27001718]])"
      ]
     },
     "metadata": {},
     "execution_count": 52
    }
   ],
   "source": [
    "res"
   ]
  },
  {
   "cell_type": "code",
   "execution_count": 53,
   "metadata": {},
   "outputs": [
    {
     "output_type": "stream",
     "name": "stdout",
     "text": [
      "-4.0245584642661925e-16\n4.163336342344337e-16\n1.0\n"
     ]
    }
   ],
   "source": [
    "for col in range(res.shape[1]):\n",
    "    print(np.dot(res[:,col],res[:,2]))"
   ]
  },
  {
   "source": [
    "## QR decomposition"
   ],
   "cell_type": "markdown",
   "metadata": {}
  },
  {
   "cell_type": "code",
   "execution_count": 121,
   "metadata": {},
   "outputs": [],
   "source": [
    "A=np.random.rand(3,3)\n",
    "Q=gram_schmidt(A)\n",
    "R=np.zeros([A.shape[1],A.shape[1]])\n",
    "for j in range(A.shape[1]):\n",
    "    for i in range(j+1):\n",
    "        R[i][j]=np.dot(Q[:,i],A[:,j])\n"
   ]
  },
  {
   "cell_type": "code",
   "execution_count": 122,
   "metadata": {},
   "outputs": [
    {
     "output_type": "execute_result",
     "data": {
      "text/plain": [
       "True"
      ]
     },
     "metadata": {},
     "execution_count": 122
    }
   ],
   "source": [
    "np.allclose(np.dot(Q,R),A)"
   ]
  },
  {
   "cell_type": "code",
   "execution_count": 71,
   "metadata": {},
   "outputs": [],
   "source": [
    "@timer\n",
    "def QR(A):\n",
    "    Q=gram_schmidt(A)\n",
    "    R=np.zeros([A.shape[1],A.shape[1]])\n",
    "    for j in range(A.shape[1]):\n",
    "        for i in range(j+1):\n",
    "            R[i][j]=np.dot(Q[:,i],A[:,j])\n",
    "    return Q,R"
   ]
  },
  {
   "cell_type": "code",
   "execution_count": 90,
   "metadata": {},
   "outputs": [],
   "source": [
    "@timer\n",
    "def inner(A):\n",
    "    Q,R=np.linalg.qr(A)\n",
    "    return Q,R"
   ]
  },
  {
   "cell_type": "code",
   "execution_count": 84,
   "metadata": {},
   "outputs": [],
   "source": [
    "A=np.random.rand(10,49)"
   ]
  },
  {
   "cell_type": "code",
   "execution_count": 91,
   "metadata": {},
   "outputs": [
    {
     "output_type": "stream",
     "name": "stdout",
     "text": [
      "0:00:00.028005\n"
     ]
    }
   ],
   "source": [
    "res,time=QR(A)\n",
    "Q,R=res\n",
    "print(time)"
   ]
  },
  {
   "cell_type": "code",
   "execution_count": 92,
   "metadata": {},
   "outputs": [
    {
     "output_type": "stream",
     "name": "stdout",
     "text": [
      "0:00:00.002168\n"
     ]
    }
   ],
   "source": [
    "res,time=inner(A)\n",
    "print(time)\n"
   ]
  },
  {
   "source": [
    "## QR algorithm"
   ],
   "cell_type": "markdown",
   "metadata": {}
  },
  {
   "cell_type": "code",
   "execution_count": 147,
   "metadata": {
    "tags": []
   },
   "outputs": [],
   "source": [
    "def QR_eig(A):\n",
    "    for i in range(1000):\n",
    "        Q,R=QR.__wrapped__(A)\n",
    "        A=np.dot(np.dot(Q.transpose(),A),Q)\n",
    "    return A\n",
    "    "
   ]
  },
  {
   "cell_type": "code",
   "execution_count": 152,
   "metadata": {},
   "outputs": [],
   "source": [
    "d=3\n",
    "A=np.random.rand(d,d)*10"
   ]
  },
  {
   "cell_type": "code",
   "execution_count": 153,
   "metadata": {},
   "outputs": [
    {
     "output_type": "execute_result",
     "data": {
      "text/plain": [
       "array([[2.85556872, 2.24048991, 9.43285451],\n",
       "       [8.40434956, 1.59401674, 5.50906956],\n",
       "       [1.38480032, 0.57937951, 7.06994132]])"
      ]
     },
     "metadata": {},
     "execution_count": 153
    }
   ],
   "source": [
    "A"
   ]
  },
  {
   "cell_type": "code",
   "execution_count": 154,
   "metadata": {},
   "outputs": [
    {
     "output_type": "stream",
     "name": "stdout",
     "text": [
      "True\n"
     ]
    }
   ],
   "source": [
    "print(np.allclose(np.sort(np.linalg.eigvals(A)),np.sort(np.diag(QR_eig(A)))))"
   ]
  },
  {
   "cell_type": "code",
   "execution_count": 104,
   "metadata": {},
   "outputs": [
    {
     "output_type": "execute_result",
     "data": {
      "text/plain": [
       "matrix([[-1.,  0.],\n",
       "        [-0.,  1.]])"
      ]
     },
     "metadata": {},
     "execution_count": 104
    }
   ],
   "source": [
    "Q"
   ]
  },
  {
   "cell_type": "code",
   "execution_count": 106,
   "metadata": {},
   "outputs": [
    {
     "output_type": "execute_result",
     "data": {
      "text/plain": [
       "matrix([[-1., -0.],\n",
       "        [ 0.,  1.]])"
      ]
     },
     "metadata": {},
     "execution_count": 106
    }
   ],
   "source": [
    "Q.transpose()"
   ]
  },
  {
   "cell_type": "code",
   "execution_count": 107,
   "metadata": {},
   "outputs": [
    {
     "output_type": "execute_result",
     "data": {
      "text/plain": [
       "matrix([[-4.0e+000,  1.0e+000],\n",
       "        [-1.5e-323, -1.0e+000]])"
      ]
     },
     "metadata": {},
     "execution_count": 107
    }
   ],
   "source": [
    "np.dot(Q.transpose(),A)"
   ]
  },
  {
   "cell_type": "code",
   "execution_count": 108,
   "metadata": {},
   "outputs": [
    {
     "output_type": "execute_result",
     "data": {
      "text/plain": [
       "matrix([[ 4.0e+000,  1.0e+000],\n",
       "        [ 1.5e-323, -1.0e+000]])"
      ]
     },
     "metadata": {},
     "execution_count": 108
    }
   ],
   "source": [
    "np.dot(np.dot(Q.transpose(),A),Q)"
   ]
  },
  {
   "cell_type": "code",
   "execution_count": null,
   "metadata": {},
   "outputs": [],
   "source": []
  }
 ]
}