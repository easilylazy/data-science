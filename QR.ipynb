{
 "metadata": {
  "language_info": {
   "codemirror_mode": {
    "name": "ipython",
    "version": 3
   },
   "file_extension": ".py",
   "mimetype": "text/x-python",
   "name": "python",
   "nbconvert_exporter": "python",
   "pygments_lexer": "ipython3",
   "version": "3.7.4"
  },
  "orig_nbformat": 2,
  "kernelspec": {
   "name": "python374jvsc74a57bd03f857618d8b6a3d270a8a45aea13fd0dc2a28a907e8d4ef70fe87ce2a92698f8",
   "display_name": "Python 3.7.4 64-bit"
  },
  "metadata": {
   "interpreter": {
    "hash": "63fd5069d213b44bf678585dea6b12cceca9941eaf7f819626cde1f2670de90d"
   }
  }
 },
 "nbformat": 4,
 "nbformat_minor": 2,
 "cells": [
  {
   "source": [
    "author:leezeeyee   \n",
    "date:2021/5/12"
   ],
   "cell_type": "markdown",
   "metadata": {}
  },
  {
   "cell_type": "code",
   "execution_count": 1,
   "metadata": {},
   "outputs": [],
   "source": [
    "import numpy as np"
   ]
  },
  {
   "source": [
    "## Gram-Schmidt process"
   ],
   "cell_type": "markdown",
   "metadata": {}
  },
  {
   "cell_type": "code",
   "execution_count": 9,
   "metadata": {},
   "outputs": [],
   "source": [
    "def proj(U,V):\n",
    "    '''\n",
    "    computer the projection of vector $V$ on the direction of $U$ \n",
    "    U and V should be same dimension\n",
    "    '''\n",
    "    if U.shape != V.shape:\n",
    "        raise Exception('not in same dimension')\n",
    "    return np.dot(U,V)*U/np.dot(U,U)"
   ]
  },
  {
   "cell_type": "code",
   "execution_count": 11,
   "metadata": {},
   "outputs": [
    {
     "output_type": "execute_result",
     "data": {
      "text/plain": [
       "array([2.04, 2.72])"
      ]
     },
     "metadata": {},
     "execution_count": 11
    }
   ],
   "source": [
    "proj(np.array([3,4]),np.array([3,2]))"
   ]
  },
  {
   "cell_type": "code",
   "execution_count": 50,
   "metadata": {},
   "outputs": [],
   "source": [
    "def gram_schmidt(A):\n",
    "    U=np.copy(A)\n",
    "    for col in range(A.shape[1]):\n",
    "        #print(A[:,col]) \n",
    "        for i in range(col):\n",
    "            # now the u is already guiyi\n",
    "            U[:,col]-=np.dot(U[:,i],A[:,col])*U[:,i]#proj(U[:,i],A[:,col]) \n",
    "        U[:,col]/=np.sqrt(np.dot(U[:,col],U[:,col]))\n",
    "    return U\n",
    "            \n"
   ]
  },
  {
   "cell_type": "code",
   "execution_count": 51,
   "metadata": {},
   "outputs": [],
   "source": [
    "res=gram_schmidt(np.random.rand(5,3))"
   ]
  },
  {
   "cell_type": "code",
   "execution_count": 52,
   "metadata": {},
   "outputs": [
    {
     "output_type": "execute_result",
     "data": {
      "text/plain": [
       "array([[ 0.11989545,  0.06535308,  0.74256348],\n",
       "       [ 0.62500627,  0.69793329,  0.06400778],\n",
       "       [ 0.46046477, -0.05589415, -0.60180545],\n",
       "       [ 0.49599204, -0.67357036,  0.09707424],\n",
       "       [ 0.37007613, -0.22758937,  0.27001718]])"
      ]
     },
     "metadata": {},
     "execution_count": 52
    }
   ],
   "source": [
    "res"
   ]
  },
  {
   "cell_type": "code",
   "execution_count": 53,
   "metadata": {},
   "outputs": [
    {
     "output_type": "stream",
     "name": "stdout",
     "text": [
      "-4.0245584642661925e-16\n4.163336342344337e-16\n1.0\n"
     ]
    }
   ],
   "source": [
    "for col in range(res.shape[1]):\n",
    "    print(np.dot(res[:,col],res[:,2]))"
   ]
  },
  {
   "source": [
    "## QR decomposition"
   ],
   "cell_type": "markdown",
   "metadata": {}
  },
  {
   "cell_type": "code",
   "execution_count": 61,
   "metadata": {},
   "outputs": [],
   "source": [
    "A=np.random.rand(5,3)\n",
    "Q=gram_schmidt(A)\n",
    "R=np.zeros([A.shape[1],A.shape[1]])\n",
    "for j in range(A.shape[1]):\n",
    "    for i in range(j+1):\n",
    "        R[i][j]=np.dot(Q[:,i],A[:,j])\n"
   ]
  },
  {
   "cell_type": "code",
   "execution_count": 62,
   "metadata": {},
   "outputs": [
    {
     "output_type": "execute_result",
     "data": {
      "text/plain": [
       "array([[1.52440414, 1.40610236, 1.2522591 ],\n",
       "       [0.        , 0.3136897 , 0.46566284],\n",
       "       [0.        , 0.        , 0.49586757]])"
      ]
     },
     "metadata": {},
     "execution_count": 62
    }
   ],
   "source": [
    "R"
   ]
  },
  {
   "cell_type": "code",
   "execution_count": 65,
   "metadata": {},
   "outputs": [
    {
     "output_type": "execute_result",
     "data": {
      "text/plain": [
       "array([[0.27310235, 0.32981504, 0.76491029],\n",
       "       [0.65152826, 0.42815919, 0.4592476 ],\n",
       "       [0.78537878, 0.87165847, 0.80440021],\n",
       "       [0.59805715, 0.37117242, 0.11793651],\n",
       "       [0.9220856 , 0.94120633, 0.75757148]])"
      ]
     },
     "metadata": {},
     "execution_count": 65
    }
   ],
   "source": [
    "np.dot(Q,R)"
   ]
  },
  {
   "cell_type": "code",
   "execution_count": 64,
   "metadata": {},
   "outputs": [
    {
     "output_type": "execute_result",
     "data": {
      "text/plain": [
       "array([[0.27310235, 0.32981504, 0.76491029],\n",
       "       [0.65152826, 0.42815919, 0.4592476 ],\n",
       "       [0.78537878, 0.87165847, 0.80440021],\n",
       "       [0.59805715, 0.37117242, 0.11793651],\n",
       "       [0.9220856 , 0.94120633, 0.75757148]])"
      ]
     },
     "metadata": {},
     "execution_count": 64
    }
   ],
   "source": [
    "A"
   ]
  },
  {
   "cell_type": "code",
   "execution_count": null,
   "metadata": {},
   "outputs": [],
   "source": []
  }
 ]
}